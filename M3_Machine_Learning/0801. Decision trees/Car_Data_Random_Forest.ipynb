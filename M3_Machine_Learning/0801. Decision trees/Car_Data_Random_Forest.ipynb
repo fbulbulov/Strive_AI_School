{
  "cells": [
    {
      "cell_type": "markdown",
      "source": "### Importing Libraries",
      "metadata": {
        "tags": [],
        "cell_id": "00000-c412e046-967e-428f-8017-129e3e363f2b",
        "deepnote_cell_type": "markdown"
      }
    },
    {
      "cell_type": "code",
      "metadata": {
        "tags": [],
        "deepnote_to_be_reexecuted": false,
        "source_hash": "c814964",
        "execution_start": 1619614748833,
        "execution_millis": 1259,
        "cell_id": "00001-fa833c88-8f7e-4a96-a8fe-e6df20d3d562",
        "deepnote_cell_type": "code"
      },
      "source": "import pandas as pd\nimport numpy as np\nfrom sklearn.model_selection import cross_val_score\nfrom sklearn.tree import DecisionTreeClassifier\nfrom sklearn.model_selection import train_test_split\nfrom sklearn import metrics",
      "execution_count": 2,
      "outputs": []
    },
    {
      "cell_type": "markdown",
      "source": "### Creating Data Frame",
      "metadata": {
        "tags": [],
        "cell_id": "00002-a6c25396-f37c-4b9e-a37b-1accf8c91d58",
        "deepnote_cell_type": "markdown"
      }
    },
    {
      "cell_type": "code",
      "metadata": {
        "tags": [],
        "deepnote_to_be_reexecuted": false,
        "source_hash": "11cf935e",
        "execution_start": 1619614760163,
        "execution_millis": 98,
        "cell_id": "00003-da0584e9-6679-4f89-bb38-134fa1f75a7c",
        "deepnote_cell_type": "code"
      },
      "source": "df=pd.read_csv(\"car.csv\")\ndf",
      "execution_count": 5,
      "outputs": [
        {
          "output_type": "execute_result",
          "execution_count": 5,
          "data": {
            "application/vnd.deepnote.dataframe.v2+json": {
              "row_count": 1727,
              "column_count": 7,
              "columns": [
                {
                  "name": "vhigh",
                  "dtype": "object",
                  "stats": {
                    "unique_count": 4,
                    "nan_count": 0,
                    "categories": [
                      {
                        "name": "high",
                        "count": 432
                      },
                      {
                        "name": "med",
                        "count": 432
                      },
                      {
                        "name": "2 others",
                        "count": 863
                      }
                    ]
                  }
                },
                {
                  "name": "vhigh.1",
                  "dtype": "object",
                  "stats": {
                    "unique_count": 4,
                    "nan_count": 0,
                    "categories": [
                      {
                        "name": "high",
                        "count": 432
                      },
                      {
                        "name": "med",
                        "count": 432
                      },
                      {
                        "name": "2 others",
                        "count": 863
                      }
                    ]
                  }
                },
                {
                  "name": "2",
                  "dtype": "object",
                  "stats": {
                    "unique_count": 4,
                    "nan_count": 0,
                    "categories": [
                      {
                        "name": "3",
                        "count": 432
                      },
                      {
                        "name": "4",
                        "count": 432
                      },
                      {
                        "name": "2 others",
                        "count": 863
                      }
                    ]
                  }
                },
                {
                  "name": "2.1",
                  "dtype": "object",
                  "stats": {
                    "unique_count": 3,
                    "nan_count": 0,
                    "categories": [
                      {
                        "name": "4",
                        "count": 576
                      },
                      {
                        "name": "more",
                        "count": 576
                      },
                      {
                        "name": "2",
                        "count": 575
                      }
                    ]
                  }
                },
                {
                  "name": "small",
                  "dtype": "object",
                  "stats": {
                    "unique_count": 3,
                    "nan_count": 0,
                    "categories": [
                      {
                        "name": "med",
                        "count": 576
                      },
                      {
                        "name": "big",
                        "count": 576
                      },
                      {
                        "name": "small",
                        "count": 575
                      }
                    ]
                  }
                },
                {
                  "name": "low",
                  "dtype": "object",
                  "stats": {
                    "unique_count": 3,
                    "nan_count": 0,
                    "categories": [
                      {
                        "name": "med",
                        "count": 576
                      },
                      {
                        "name": "high",
                        "count": 576
                      },
                      {
                        "name": "low",
                        "count": 575
                      }
                    ]
                  }
                },
                {
                  "name": "unacc",
                  "dtype": "object",
                  "stats": {
                    "unique_count": 4,
                    "nan_count": 0,
                    "categories": [
                      {
                        "name": "unacc",
                        "count": 1209
                      },
                      {
                        "name": "acc",
                        "count": 384
                      },
                      {
                        "name": "2 others",
                        "count": 134
                      }
                    ]
                  }
                },
                {
                  "name": "_deepnote_index_column",
                  "dtype": "int64"
                }
              ],
              "rows_top": [
                {
                  "2": "2",
                  "vhigh": "vhigh",
                  "vhigh.1": "vhigh",
                  "2.1": "2",
                  "small": "small",
                  "low": "med",
                  "unacc": "unacc",
                  "_deepnote_index_column": 0
                },
                {
                  "2": "2",
                  "vhigh": "vhigh",
                  "vhigh.1": "vhigh",
                  "2.1": "2",
                  "small": "small",
                  "low": "high",
                  "unacc": "unacc",
                  "_deepnote_index_column": 1
                },
                {
                  "2": "2",
                  "vhigh": "vhigh",
                  "vhigh.1": "vhigh",
                  "2.1": "2",
                  "small": "med",
                  "low": "low",
                  "unacc": "unacc",
                  "_deepnote_index_column": 2
                },
                {
                  "2": "2",
                  "vhigh": "vhigh",
                  "vhigh.1": "vhigh",
                  "2.1": "2",
                  "small": "med",
                  "low": "med",
                  "unacc": "unacc",
                  "_deepnote_index_column": 3
                },
                {
                  "2": "2",
                  "vhigh": "vhigh",
                  "vhigh.1": "vhigh",
                  "2.1": "2",
                  "small": "med",
                  "low": "high",
                  "unacc": "unacc",
                  "_deepnote_index_column": 4
                },
                {
                  "2": "2",
                  "vhigh": "vhigh",
                  "vhigh.1": "vhigh",
                  "2.1": "2",
                  "small": "big",
                  "low": "low",
                  "unacc": "unacc",
                  "_deepnote_index_column": 5
                },
                {
                  "2": "2",
                  "vhigh": "vhigh",
                  "vhigh.1": "vhigh",
                  "2.1": "2",
                  "small": "big",
                  "low": "med",
                  "unacc": "unacc",
                  "_deepnote_index_column": 6
                },
                {
                  "2": "2",
                  "vhigh": "vhigh",
                  "vhigh.1": "vhigh",
                  "2.1": "2",
                  "small": "big",
                  "low": "high",
                  "unacc": "unacc",
                  "_deepnote_index_column": 7
                },
                {
                  "2": "2",
                  "vhigh": "vhigh",
                  "vhigh.1": "vhigh",
                  "2.1": "4",
                  "small": "small",
                  "low": "low",
                  "unacc": "unacc",
                  "_deepnote_index_column": 8
                },
                {
                  "2": "2",
                  "vhigh": "vhigh",
                  "vhigh.1": "vhigh",
                  "2.1": "4",
                  "small": "small",
                  "low": "med",
                  "unacc": "unacc",
                  "_deepnote_index_column": 9
                },
                {
                  "2": "2",
                  "vhigh": "vhigh",
                  "vhigh.1": "vhigh",
                  "2.1": "4",
                  "small": "small",
                  "low": "high",
                  "unacc": "unacc",
                  "_deepnote_index_column": 10
                },
                {
                  "2": "2",
                  "vhigh": "vhigh",
                  "vhigh.1": "vhigh",
                  "2.1": "4",
                  "small": "med",
                  "low": "low",
                  "unacc": "unacc",
                  "_deepnote_index_column": 11
                },
                {
                  "2": "2",
                  "vhigh": "vhigh",
                  "vhigh.1": "vhigh",
                  "2.1": "4",
                  "small": "med",
                  "low": "med",
                  "unacc": "unacc",
                  "_deepnote_index_column": 12
                },
                {
                  "2": "2",
                  "vhigh": "vhigh",
                  "vhigh.1": "vhigh",
                  "2.1": "4",
                  "small": "med",
                  "low": "high",
                  "unacc": "unacc",
                  "_deepnote_index_column": 13
                },
                {
                  "2": "2",
                  "vhigh": "vhigh",
                  "vhigh.1": "vhigh",
                  "2.1": "4",
                  "small": "big",
                  "low": "low",
                  "unacc": "unacc",
                  "_deepnote_index_column": 14
                },
                {
                  "2": "2",
                  "vhigh": "vhigh",
                  "vhigh.1": "vhigh",
                  "2.1": "4",
                  "small": "big",
                  "low": "med",
                  "unacc": "unacc",
                  "_deepnote_index_column": 15
                },
                {
                  "2": "2",
                  "vhigh": "vhigh",
                  "vhigh.1": "vhigh",
                  "2.1": "4",
                  "small": "big",
                  "low": "high",
                  "unacc": "unacc",
                  "_deepnote_index_column": 16
                },
                {
                  "2": "2",
                  "vhigh": "vhigh",
                  "vhigh.1": "vhigh",
                  "2.1": "more",
                  "small": "small",
                  "low": "low",
                  "unacc": "unacc",
                  "_deepnote_index_column": 17
                },
                {
                  "2": "2",
                  "vhigh": "vhigh",
                  "vhigh.1": "vhigh",
                  "2.1": "more",
                  "small": "small",
                  "low": "med",
                  "unacc": "unacc",
                  "_deepnote_index_column": 18
                },
                {
                  "2": "2",
                  "vhigh": "vhigh",
                  "vhigh.1": "vhigh",
                  "2.1": "more",
                  "small": "small",
                  "low": "high",
                  "unacc": "unacc",
                  "_deepnote_index_column": 19
                },
                {
                  "2": "2",
                  "vhigh": "vhigh",
                  "vhigh.1": "vhigh",
                  "2.1": "more",
                  "small": "med",
                  "low": "low",
                  "unacc": "unacc",
                  "_deepnote_index_column": 20
                },
                {
                  "2": "2",
                  "vhigh": "vhigh",
                  "vhigh.1": "vhigh",
                  "2.1": "more",
                  "small": "med",
                  "low": "med",
                  "unacc": "unacc",
                  "_deepnote_index_column": 21
                },
                {
                  "2": "2",
                  "vhigh": "vhigh",
                  "vhigh.1": "vhigh",
                  "2.1": "more",
                  "small": "med",
                  "low": "high",
                  "unacc": "unacc",
                  "_deepnote_index_column": 22
                },
                {
                  "2": "2",
                  "vhigh": "vhigh",
                  "vhigh.1": "vhigh",
                  "2.1": "more",
                  "small": "big",
                  "low": "low",
                  "unacc": "unacc",
                  "_deepnote_index_column": 23
                },
                {
                  "2": "2",
                  "vhigh": "vhigh",
                  "vhigh.1": "vhigh",
                  "2.1": "more",
                  "small": "big",
                  "low": "med",
                  "unacc": "unacc",
                  "_deepnote_index_column": 24
                },
                {
                  "2": "2",
                  "vhigh": "vhigh",
                  "vhigh.1": "vhigh",
                  "2.1": "more",
                  "small": "big",
                  "low": "high",
                  "unacc": "unacc",
                  "_deepnote_index_column": 25
                },
                {
                  "2": "3",
                  "vhigh": "vhigh",
                  "vhigh.1": "vhigh",
                  "2.1": "2",
                  "small": "small",
                  "low": "low",
                  "unacc": "unacc",
                  "_deepnote_index_column": 26
                },
                {
                  "2": "3",
                  "vhigh": "vhigh",
                  "vhigh.1": "vhigh",
                  "2.1": "2",
                  "small": "small",
                  "low": "med",
                  "unacc": "unacc",
                  "_deepnote_index_column": 27
                },
                {
                  "2": "3",
                  "vhigh": "vhigh",
                  "vhigh.1": "vhigh",
                  "2.1": "2",
                  "small": "small",
                  "low": "high",
                  "unacc": "unacc",
                  "_deepnote_index_column": 28
                },
                {
                  "2": "3",
                  "vhigh": "vhigh",
                  "vhigh.1": "vhigh",
                  "2.1": "2",
                  "small": "med",
                  "low": "low",
                  "unacc": "unacc",
                  "_deepnote_index_column": 29
                },
                {
                  "2": "3",
                  "vhigh": "vhigh",
                  "vhigh.1": "vhigh",
                  "2.1": "2",
                  "small": "med",
                  "low": "med",
                  "unacc": "unacc",
                  "_deepnote_index_column": 30
                },
                {
                  "2": "3",
                  "vhigh": "vhigh",
                  "vhigh.1": "vhigh",
                  "2.1": "2",
                  "small": "med",
                  "low": "high",
                  "unacc": "unacc",
                  "_deepnote_index_column": 31
                },
                {
                  "2": "3",
                  "vhigh": "vhigh",
                  "vhigh.1": "vhigh",
                  "2.1": "2",
                  "small": "big",
                  "low": "low",
                  "unacc": "unacc",
                  "_deepnote_index_column": 32
                },
                {
                  "2": "3",
                  "vhigh": "vhigh",
                  "vhigh.1": "vhigh",
                  "2.1": "2",
                  "small": "big",
                  "low": "med",
                  "unacc": "unacc",
                  "_deepnote_index_column": 33
                },
                {
                  "2": "3",
                  "vhigh": "vhigh",
                  "vhigh.1": "vhigh",
                  "2.1": "2",
                  "small": "big",
                  "low": "high",
                  "unacc": "unacc",
                  "_deepnote_index_column": 34
                },
                {
                  "2": "3",
                  "vhigh": "vhigh",
                  "vhigh.1": "vhigh",
                  "2.1": "4",
                  "small": "small",
                  "low": "low",
                  "unacc": "unacc",
                  "_deepnote_index_column": 35
                },
                {
                  "2": "3",
                  "vhigh": "vhigh",
                  "vhigh.1": "vhigh",
                  "2.1": "4",
                  "small": "small",
                  "low": "med",
                  "unacc": "unacc",
                  "_deepnote_index_column": 36
                },
                {
                  "2": "3",
                  "vhigh": "vhigh",
                  "vhigh.1": "vhigh",
                  "2.1": "4",
                  "small": "small",
                  "low": "high",
                  "unacc": "unacc",
                  "_deepnote_index_column": 37
                },
                {
                  "2": "3",
                  "vhigh": "vhigh",
                  "vhigh.1": "vhigh",
                  "2.1": "4",
                  "small": "med",
                  "low": "low",
                  "unacc": "unacc",
                  "_deepnote_index_column": 38
                },
                {
                  "2": "3",
                  "vhigh": "vhigh",
                  "vhigh.1": "vhigh",
                  "2.1": "4",
                  "small": "med",
                  "low": "med",
                  "unacc": "unacc",
                  "_deepnote_index_column": 39
                },
                {
                  "2": "3",
                  "vhigh": "vhigh",
                  "vhigh.1": "vhigh",
                  "2.1": "4",
                  "small": "med",
                  "low": "high",
                  "unacc": "unacc",
                  "_deepnote_index_column": 40
                },
                {
                  "2": "3",
                  "vhigh": "vhigh",
                  "vhigh.1": "vhigh",
                  "2.1": "4",
                  "small": "big",
                  "low": "low",
                  "unacc": "unacc",
                  "_deepnote_index_column": 41
                },
                {
                  "2": "3",
                  "vhigh": "vhigh",
                  "vhigh.1": "vhigh",
                  "2.1": "4",
                  "small": "big",
                  "low": "med",
                  "unacc": "unacc",
                  "_deepnote_index_column": 42
                },
                {
                  "2": "3",
                  "vhigh": "vhigh",
                  "vhigh.1": "vhigh",
                  "2.1": "4",
                  "small": "big",
                  "low": "high",
                  "unacc": "unacc",
                  "_deepnote_index_column": 43
                },
                {
                  "2": "3",
                  "vhigh": "vhigh",
                  "vhigh.1": "vhigh",
                  "2.1": "more",
                  "small": "small",
                  "low": "low",
                  "unacc": "unacc",
                  "_deepnote_index_column": 44
                },
                {
                  "2": "3",
                  "vhigh": "vhigh",
                  "vhigh.1": "vhigh",
                  "2.1": "more",
                  "small": "small",
                  "low": "med",
                  "unacc": "unacc",
                  "_deepnote_index_column": 45
                },
                {
                  "2": "3",
                  "vhigh": "vhigh",
                  "vhigh.1": "vhigh",
                  "2.1": "more",
                  "small": "small",
                  "low": "high",
                  "unacc": "unacc",
                  "_deepnote_index_column": 46
                },
                {
                  "2": "3",
                  "vhigh": "vhigh",
                  "vhigh.1": "vhigh",
                  "2.1": "more",
                  "small": "med",
                  "low": "low",
                  "unacc": "unacc",
                  "_deepnote_index_column": 47
                },
                {
                  "2": "3",
                  "vhigh": "vhigh",
                  "vhigh.1": "vhigh",
                  "2.1": "more",
                  "small": "med",
                  "low": "med",
                  "unacc": "unacc",
                  "_deepnote_index_column": 48
                },
                {
                  "2": "3",
                  "vhigh": "vhigh",
                  "vhigh.1": "vhigh",
                  "2.1": "more",
                  "small": "med",
                  "low": "high",
                  "unacc": "unacc",
                  "_deepnote_index_column": 49
                },
                {
                  "2": "3",
                  "vhigh": "vhigh",
                  "vhigh.1": "vhigh",
                  "2.1": "more",
                  "small": "big",
                  "low": "low",
                  "unacc": "unacc",
                  "_deepnote_index_column": 50
                },
                {
                  "2": "3",
                  "vhigh": "vhigh",
                  "vhigh.1": "vhigh",
                  "2.1": "more",
                  "small": "big",
                  "low": "med",
                  "unacc": "unacc",
                  "_deepnote_index_column": 51
                },
                {
                  "2": "3",
                  "vhigh": "vhigh",
                  "vhigh.1": "vhigh",
                  "2.1": "more",
                  "small": "big",
                  "low": "high",
                  "unacc": "unacc",
                  "_deepnote_index_column": 52
                },
                {
                  "2": "4",
                  "vhigh": "vhigh",
                  "vhigh.1": "vhigh",
                  "2.1": "2",
                  "small": "small",
                  "low": "low",
                  "unacc": "unacc",
                  "_deepnote_index_column": 53
                },
                {
                  "2": "4",
                  "vhigh": "vhigh",
                  "vhigh.1": "vhigh",
                  "2.1": "2",
                  "small": "small",
                  "low": "med",
                  "unacc": "unacc",
                  "_deepnote_index_column": 54
                },
                {
                  "2": "4",
                  "vhigh": "vhigh",
                  "vhigh.1": "vhigh",
                  "2.1": "2",
                  "small": "small",
                  "low": "high",
                  "unacc": "unacc",
                  "_deepnote_index_column": 55
                },
                {
                  "2": "4",
                  "vhigh": "vhigh",
                  "vhigh.1": "vhigh",
                  "2.1": "2",
                  "small": "med",
                  "low": "low",
                  "unacc": "unacc",
                  "_deepnote_index_column": 56
                },
                {
                  "2": "4",
                  "vhigh": "vhigh",
                  "vhigh.1": "vhigh",
                  "2.1": "2",
                  "small": "med",
                  "low": "med",
                  "unacc": "unacc",
                  "_deepnote_index_column": 57
                },
                {
                  "2": "4",
                  "vhigh": "vhigh",
                  "vhigh.1": "vhigh",
                  "2.1": "2",
                  "small": "med",
                  "low": "high",
                  "unacc": "unacc",
                  "_deepnote_index_column": 58
                },
                {
                  "2": "4",
                  "vhigh": "vhigh",
                  "vhigh.1": "vhigh",
                  "2.1": "2",
                  "small": "big",
                  "low": "low",
                  "unacc": "unacc",
                  "_deepnote_index_column": 59
                },
                {
                  "2": "4",
                  "vhigh": "vhigh",
                  "vhigh.1": "vhigh",
                  "2.1": "2",
                  "small": "big",
                  "low": "med",
                  "unacc": "unacc",
                  "_deepnote_index_column": 60
                },
                {
                  "2": "4",
                  "vhigh": "vhigh",
                  "vhigh.1": "vhigh",
                  "2.1": "2",
                  "small": "big",
                  "low": "high",
                  "unacc": "unacc",
                  "_deepnote_index_column": 61
                },
                {
                  "2": "4",
                  "vhigh": "vhigh",
                  "vhigh.1": "vhigh",
                  "2.1": "4",
                  "small": "small",
                  "low": "low",
                  "unacc": "unacc",
                  "_deepnote_index_column": 62
                },
                {
                  "2": "4",
                  "vhigh": "vhigh",
                  "vhigh.1": "vhigh",
                  "2.1": "4",
                  "small": "small",
                  "low": "med",
                  "unacc": "unacc",
                  "_deepnote_index_column": 63
                },
                {
                  "2": "4",
                  "vhigh": "vhigh",
                  "vhigh.1": "vhigh",
                  "2.1": "4",
                  "small": "small",
                  "low": "high",
                  "unacc": "unacc",
                  "_deepnote_index_column": 64
                },
                {
                  "2": "4",
                  "vhigh": "vhigh",
                  "vhigh.1": "vhigh",
                  "2.1": "4",
                  "small": "med",
                  "low": "low",
                  "unacc": "unacc",
                  "_deepnote_index_column": 65
                },
                {
                  "2": "4",
                  "vhigh": "vhigh",
                  "vhigh.1": "vhigh",
                  "2.1": "4",
                  "small": "med",
                  "low": "med",
                  "unacc": "unacc",
                  "_deepnote_index_column": 66
                },
                {
                  "2": "4",
                  "vhigh": "vhigh",
                  "vhigh.1": "vhigh",
                  "2.1": "4",
                  "small": "med",
                  "low": "high",
                  "unacc": "unacc",
                  "_deepnote_index_column": 67
                },
                {
                  "2": "4",
                  "vhigh": "vhigh",
                  "vhigh.1": "vhigh",
                  "2.1": "4",
                  "small": "big",
                  "low": "low",
                  "unacc": "unacc",
                  "_deepnote_index_column": 68
                },
                {
                  "2": "4",
                  "vhigh": "vhigh",
                  "vhigh.1": "vhigh",
                  "2.1": "4",
                  "small": "big",
                  "low": "med",
                  "unacc": "unacc",
                  "_deepnote_index_column": 69
                },
                {
                  "2": "4",
                  "vhigh": "vhigh",
                  "vhigh.1": "vhigh",
                  "2.1": "4",
                  "small": "big",
                  "low": "high",
                  "unacc": "unacc",
                  "_deepnote_index_column": 70
                }
              ],
              "rows_bottom": [
                {
                  "2": "3",
                  "vhigh": "low",
                  "vhigh.1": "low",
                  "2.1": "4",
                  "small": "small",
                  "low": "med",
                  "unacc": "acc",
                  "_deepnote_index_column": 1656
                },
                {
                  "2": "3",
                  "vhigh": "low",
                  "vhigh.1": "low",
                  "2.1": "4",
                  "small": "small",
                  "low": "high",
                  "unacc": "good",
                  "_deepnote_index_column": 1657
                },
                {
                  "2": "3",
                  "vhigh": "low",
                  "vhigh.1": "low",
                  "2.1": "4",
                  "small": "med",
                  "low": "low",
                  "unacc": "unacc",
                  "_deepnote_index_column": 1658
                },
                {
                  "2": "3",
                  "vhigh": "low",
                  "vhigh.1": "low",
                  "2.1": "4",
                  "small": "med",
                  "low": "med",
                  "unacc": "acc",
                  "_deepnote_index_column": 1659
                },
                {
                  "2": "3",
                  "vhigh": "low",
                  "vhigh.1": "low",
                  "2.1": "4",
                  "small": "med",
                  "low": "high",
                  "unacc": "good",
                  "_deepnote_index_column": 1660
                },
                {
                  "2": "3",
                  "vhigh": "low",
                  "vhigh.1": "low",
                  "2.1": "4",
                  "small": "big",
                  "low": "low",
                  "unacc": "unacc",
                  "_deepnote_index_column": 1661
                },
                {
                  "2": "3",
                  "vhigh": "low",
                  "vhigh.1": "low",
                  "2.1": "4",
                  "small": "big",
                  "low": "med",
                  "unacc": "good",
                  "_deepnote_index_column": 1662
                },
                {
                  "2": "3",
                  "vhigh": "low",
                  "vhigh.1": "low",
                  "2.1": "4",
                  "small": "big",
                  "low": "high",
                  "unacc": "vgood",
                  "_deepnote_index_column": 1663
                },
                {
                  "2": "3",
                  "vhigh": "low",
                  "vhigh.1": "low",
                  "2.1": "more",
                  "small": "small",
                  "low": "low",
                  "unacc": "unacc",
                  "_deepnote_index_column": 1664
                },
                {
                  "2": "3",
                  "vhigh": "low",
                  "vhigh.1": "low",
                  "2.1": "more",
                  "small": "small",
                  "low": "med",
                  "unacc": "acc",
                  "_deepnote_index_column": 1665
                },
                {
                  "2": "3",
                  "vhigh": "low",
                  "vhigh.1": "low",
                  "2.1": "more",
                  "small": "small",
                  "low": "high",
                  "unacc": "good",
                  "_deepnote_index_column": 1666
                },
                {
                  "2": "3",
                  "vhigh": "low",
                  "vhigh.1": "low",
                  "2.1": "more",
                  "small": "med",
                  "low": "low",
                  "unacc": "unacc",
                  "_deepnote_index_column": 1667
                },
                {
                  "2": "3",
                  "vhigh": "low",
                  "vhigh.1": "low",
                  "2.1": "more",
                  "small": "med",
                  "low": "med",
                  "unacc": "good",
                  "_deepnote_index_column": 1668
                },
                {
                  "2": "3",
                  "vhigh": "low",
                  "vhigh.1": "low",
                  "2.1": "more",
                  "small": "med",
                  "low": "high",
                  "unacc": "vgood",
                  "_deepnote_index_column": 1669
                },
                {
                  "2": "3",
                  "vhigh": "low",
                  "vhigh.1": "low",
                  "2.1": "more",
                  "small": "big",
                  "low": "low",
                  "unacc": "unacc",
                  "_deepnote_index_column": 1670
                },
                {
                  "2": "3",
                  "vhigh": "low",
                  "vhigh.1": "low",
                  "2.1": "more",
                  "small": "big",
                  "low": "med",
                  "unacc": "good",
                  "_deepnote_index_column": 1671
                },
                {
                  "2": "3",
                  "vhigh": "low",
                  "vhigh.1": "low",
                  "2.1": "more",
                  "small": "big",
                  "low": "high",
                  "unacc": "vgood",
                  "_deepnote_index_column": 1672
                },
                {
                  "2": "4",
                  "vhigh": "low",
                  "vhigh.1": "low",
                  "2.1": "2",
                  "small": "small",
                  "low": "low",
                  "unacc": "unacc",
                  "_deepnote_index_column": 1673
                },
                {
                  "2": "4",
                  "vhigh": "low",
                  "vhigh.1": "low",
                  "2.1": "2",
                  "small": "small",
                  "low": "med",
                  "unacc": "unacc",
                  "_deepnote_index_column": 1674
                },
                {
                  "2": "4",
                  "vhigh": "low",
                  "vhigh.1": "low",
                  "2.1": "2",
                  "small": "small",
                  "low": "high",
                  "unacc": "unacc",
                  "_deepnote_index_column": 1675
                },
                {
                  "2": "4",
                  "vhigh": "low",
                  "vhigh.1": "low",
                  "2.1": "2",
                  "small": "med",
                  "low": "low",
                  "unacc": "unacc",
                  "_deepnote_index_column": 1676
                },
                {
                  "2": "4",
                  "vhigh": "low",
                  "vhigh.1": "low",
                  "2.1": "2",
                  "small": "med",
                  "low": "med",
                  "unacc": "unacc",
                  "_deepnote_index_column": 1677
                },
                {
                  "2": "4",
                  "vhigh": "low",
                  "vhigh.1": "low",
                  "2.1": "2",
                  "small": "med",
                  "low": "high",
                  "unacc": "unacc",
                  "_deepnote_index_column": 1678
                },
                {
                  "2": "4",
                  "vhigh": "low",
                  "vhigh.1": "low",
                  "2.1": "2",
                  "small": "big",
                  "low": "low",
                  "unacc": "unacc",
                  "_deepnote_index_column": 1679
                },
                {
                  "2": "4",
                  "vhigh": "low",
                  "vhigh.1": "low",
                  "2.1": "2",
                  "small": "big",
                  "low": "med",
                  "unacc": "unacc",
                  "_deepnote_index_column": 1680
                },
                {
                  "2": "4",
                  "vhigh": "low",
                  "vhigh.1": "low",
                  "2.1": "2",
                  "small": "big",
                  "low": "high",
                  "unacc": "unacc",
                  "_deepnote_index_column": 1681
                },
                {
                  "2": "4",
                  "vhigh": "low",
                  "vhigh.1": "low",
                  "2.1": "4",
                  "small": "small",
                  "low": "low",
                  "unacc": "unacc",
                  "_deepnote_index_column": 1682
                },
                {
                  "2": "4",
                  "vhigh": "low",
                  "vhigh.1": "low",
                  "2.1": "4",
                  "small": "small",
                  "low": "med",
                  "unacc": "acc",
                  "_deepnote_index_column": 1683
                },
                {
                  "2": "4",
                  "vhigh": "low",
                  "vhigh.1": "low",
                  "2.1": "4",
                  "small": "small",
                  "low": "high",
                  "unacc": "good",
                  "_deepnote_index_column": 1684
                },
                {
                  "2": "4",
                  "vhigh": "low",
                  "vhigh.1": "low",
                  "2.1": "4",
                  "small": "med",
                  "low": "low",
                  "unacc": "unacc",
                  "_deepnote_index_column": 1685
                },
                {
                  "2": "4",
                  "vhigh": "low",
                  "vhigh.1": "low",
                  "2.1": "4",
                  "small": "med",
                  "low": "med",
                  "unacc": "good",
                  "_deepnote_index_column": 1686
                },
                {
                  "2": "4",
                  "vhigh": "low",
                  "vhigh.1": "low",
                  "2.1": "4",
                  "small": "med",
                  "low": "high",
                  "unacc": "vgood",
                  "_deepnote_index_column": 1687
                },
                {
                  "2": "4",
                  "vhigh": "low",
                  "vhigh.1": "low",
                  "2.1": "4",
                  "small": "big",
                  "low": "low",
                  "unacc": "unacc",
                  "_deepnote_index_column": 1688
                },
                {
                  "2": "4",
                  "vhigh": "low",
                  "vhigh.1": "low",
                  "2.1": "4",
                  "small": "big",
                  "low": "med",
                  "unacc": "good",
                  "_deepnote_index_column": 1689
                },
                {
                  "2": "4",
                  "vhigh": "low",
                  "vhigh.1": "low",
                  "2.1": "4",
                  "small": "big",
                  "low": "high",
                  "unacc": "vgood",
                  "_deepnote_index_column": 1690
                },
                {
                  "2": "4",
                  "vhigh": "low",
                  "vhigh.1": "low",
                  "2.1": "more",
                  "small": "small",
                  "low": "low",
                  "unacc": "unacc",
                  "_deepnote_index_column": 1691
                },
                {
                  "2": "4",
                  "vhigh": "low",
                  "vhigh.1": "low",
                  "2.1": "more",
                  "small": "small",
                  "low": "med",
                  "unacc": "acc",
                  "_deepnote_index_column": 1692
                },
                {
                  "2": "4",
                  "vhigh": "low",
                  "vhigh.1": "low",
                  "2.1": "more",
                  "small": "small",
                  "low": "high",
                  "unacc": "good",
                  "_deepnote_index_column": 1693
                },
                {
                  "2": "4",
                  "vhigh": "low",
                  "vhigh.1": "low",
                  "2.1": "more",
                  "small": "med",
                  "low": "low",
                  "unacc": "unacc",
                  "_deepnote_index_column": 1694
                },
                {
                  "2": "4",
                  "vhigh": "low",
                  "vhigh.1": "low",
                  "2.1": "more",
                  "small": "med",
                  "low": "med",
                  "unacc": "good",
                  "_deepnote_index_column": 1695
                },
                {
                  "2": "4",
                  "vhigh": "low",
                  "vhigh.1": "low",
                  "2.1": "more",
                  "small": "med",
                  "low": "high",
                  "unacc": "vgood",
                  "_deepnote_index_column": 1696
                },
                {
                  "2": "4",
                  "vhigh": "low",
                  "vhigh.1": "low",
                  "2.1": "more",
                  "small": "big",
                  "low": "low",
                  "unacc": "unacc",
                  "_deepnote_index_column": 1697
                },
                {
                  "2": "4",
                  "vhigh": "low",
                  "vhigh.1": "low",
                  "2.1": "more",
                  "small": "big",
                  "low": "med",
                  "unacc": "good",
                  "_deepnote_index_column": 1698
                },
                {
                  "2": "4",
                  "vhigh": "low",
                  "vhigh.1": "low",
                  "2.1": "more",
                  "small": "big",
                  "low": "high",
                  "unacc": "vgood",
                  "_deepnote_index_column": 1699
                },
                {
                  "2": "5more",
                  "vhigh": "low",
                  "vhigh.1": "low",
                  "2.1": "2",
                  "small": "small",
                  "low": "low",
                  "unacc": "unacc",
                  "_deepnote_index_column": 1700
                },
                {
                  "2": "5more",
                  "vhigh": "low",
                  "vhigh.1": "low",
                  "2.1": "2",
                  "small": "small",
                  "low": "med",
                  "unacc": "unacc",
                  "_deepnote_index_column": 1701
                },
                {
                  "2": "5more",
                  "vhigh": "low",
                  "vhigh.1": "low",
                  "2.1": "2",
                  "small": "small",
                  "low": "high",
                  "unacc": "unacc",
                  "_deepnote_index_column": 1702
                },
                {
                  "2": "5more",
                  "vhigh": "low",
                  "vhigh.1": "low",
                  "2.1": "2",
                  "small": "med",
                  "low": "low",
                  "unacc": "unacc",
                  "_deepnote_index_column": 1703
                },
                {
                  "2": "5more",
                  "vhigh": "low",
                  "vhigh.1": "low",
                  "2.1": "2",
                  "small": "med",
                  "low": "med",
                  "unacc": "unacc",
                  "_deepnote_index_column": 1704
                },
                {
                  "2": "5more",
                  "vhigh": "low",
                  "vhigh.1": "low",
                  "2.1": "2",
                  "small": "med",
                  "low": "high",
                  "unacc": "unacc",
                  "_deepnote_index_column": 1705
                },
                {
                  "2": "5more",
                  "vhigh": "low",
                  "vhigh.1": "low",
                  "2.1": "2",
                  "small": "big",
                  "low": "low",
                  "unacc": "unacc",
                  "_deepnote_index_column": 1706
                },
                {
                  "2": "5more",
                  "vhigh": "low",
                  "vhigh.1": "low",
                  "2.1": "2",
                  "small": "big",
                  "low": "med",
                  "unacc": "unacc",
                  "_deepnote_index_column": 1707
                },
                {
                  "2": "5more",
                  "vhigh": "low",
                  "vhigh.1": "low",
                  "2.1": "2",
                  "small": "big",
                  "low": "high",
                  "unacc": "unacc",
                  "_deepnote_index_column": 1708
                },
                {
                  "2": "5more",
                  "vhigh": "low",
                  "vhigh.1": "low",
                  "2.1": "4",
                  "small": "small",
                  "low": "low",
                  "unacc": "unacc",
                  "_deepnote_index_column": 1709
                },
                {
                  "2": "5more",
                  "vhigh": "low",
                  "vhigh.1": "low",
                  "2.1": "4",
                  "small": "small",
                  "low": "med",
                  "unacc": "acc",
                  "_deepnote_index_column": 1710
                },
                {
                  "2": "5more",
                  "vhigh": "low",
                  "vhigh.1": "low",
                  "2.1": "4",
                  "small": "small",
                  "low": "high",
                  "unacc": "good",
                  "_deepnote_index_column": 1711
                },
                {
                  "2": "5more",
                  "vhigh": "low",
                  "vhigh.1": "low",
                  "2.1": "4",
                  "small": "med",
                  "low": "low",
                  "unacc": "unacc",
                  "_deepnote_index_column": 1712
                },
                {
                  "2": "5more",
                  "vhigh": "low",
                  "vhigh.1": "low",
                  "2.1": "4",
                  "small": "med",
                  "low": "med",
                  "unacc": "good",
                  "_deepnote_index_column": 1713
                },
                {
                  "2": "5more",
                  "vhigh": "low",
                  "vhigh.1": "low",
                  "2.1": "4",
                  "small": "med",
                  "low": "high",
                  "unacc": "vgood",
                  "_deepnote_index_column": 1714
                },
                {
                  "2": "5more",
                  "vhigh": "low",
                  "vhigh.1": "low",
                  "2.1": "4",
                  "small": "big",
                  "low": "low",
                  "unacc": "unacc",
                  "_deepnote_index_column": 1715
                },
                {
                  "2": "5more",
                  "vhigh": "low",
                  "vhigh.1": "low",
                  "2.1": "4",
                  "small": "big",
                  "low": "med",
                  "unacc": "good",
                  "_deepnote_index_column": 1716
                },
                {
                  "2": "5more",
                  "vhigh": "low",
                  "vhigh.1": "low",
                  "2.1": "4",
                  "small": "big",
                  "low": "high",
                  "unacc": "vgood",
                  "_deepnote_index_column": 1717
                },
                {
                  "2": "5more",
                  "vhigh": "low",
                  "vhigh.1": "low",
                  "2.1": "more",
                  "small": "small",
                  "low": "low",
                  "unacc": "unacc",
                  "_deepnote_index_column": 1718
                },
                {
                  "2": "5more",
                  "vhigh": "low",
                  "vhigh.1": "low",
                  "2.1": "more",
                  "small": "small",
                  "low": "med",
                  "unacc": "acc",
                  "_deepnote_index_column": 1719
                },
                {
                  "2": "5more",
                  "vhigh": "low",
                  "vhigh.1": "low",
                  "2.1": "more",
                  "small": "small",
                  "low": "high",
                  "unacc": "good",
                  "_deepnote_index_column": 1720
                },
                {
                  "2": "5more",
                  "vhigh": "low",
                  "vhigh.1": "low",
                  "2.1": "more",
                  "small": "med",
                  "low": "low",
                  "unacc": "unacc",
                  "_deepnote_index_column": 1721
                },
                {
                  "2": "5more",
                  "vhigh": "low",
                  "vhigh.1": "low",
                  "2.1": "more",
                  "small": "med",
                  "low": "med",
                  "unacc": "good",
                  "_deepnote_index_column": 1722
                },
                {
                  "2": "5more",
                  "vhigh": "low",
                  "vhigh.1": "low",
                  "2.1": "more",
                  "small": "med",
                  "low": "high",
                  "unacc": "vgood",
                  "_deepnote_index_column": 1723
                },
                {
                  "2": "5more",
                  "vhigh": "low",
                  "vhigh.1": "low",
                  "2.1": "more",
                  "small": "big",
                  "low": "low",
                  "unacc": "unacc",
                  "_deepnote_index_column": 1724
                },
                {
                  "2": "5more",
                  "vhigh": "low",
                  "vhigh.1": "low",
                  "2.1": "more",
                  "small": "big",
                  "low": "med",
                  "unacc": "good",
                  "_deepnote_index_column": 1725
                },
                {
                  "2": "5more",
                  "vhigh": "low",
                  "vhigh.1": "low",
                  "2.1": "more",
                  "small": "big",
                  "low": "high",
                  "unacc": "vgood",
                  "_deepnote_index_column": 1726
                }
              ]
            },
            "text/plain": "      vhigh vhigh.1      2   2.1  small   low  unacc\n0     vhigh   vhigh      2     2  small   med  unacc\n1     vhigh   vhigh      2     2  small  high  unacc\n2     vhigh   vhigh      2     2    med   low  unacc\n3     vhigh   vhigh      2     2    med   med  unacc\n4     vhigh   vhigh      2     2    med  high  unacc\n...     ...     ...    ...   ...    ...   ...    ...\n1722    low     low  5more  more    med   med   good\n1723    low     low  5more  more    med  high  vgood\n1724    low     low  5more  more    big   low  unacc\n1725    low     low  5more  more    big   med   good\n1726    low     low  5more  more    big  high  vgood\n\n[1727 rows x 7 columns]",
            "text/html": "<div>\n<style scoped>\n    .dataframe tbody tr th:only-of-type {\n        vertical-align: middle;\n    }\n\n    .dataframe tbody tr th {\n        vertical-align: top;\n    }\n\n    .dataframe thead th {\n        text-align: right;\n    }\n</style>\n<table border=\"1\" class=\"dataframe\">\n  <thead>\n    <tr style=\"text-align: right;\">\n      <th></th>\n      <th>vhigh</th>\n      <th>vhigh.1</th>\n      <th>2</th>\n      <th>2.1</th>\n      <th>small</th>\n      <th>low</th>\n      <th>unacc</th>\n    </tr>\n  </thead>\n  <tbody>\n    <tr>\n      <th>0</th>\n      <td>vhigh</td>\n      <td>vhigh</td>\n      <td>2</td>\n      <td>2</td>\n      <td>small</td>\n      <td>med</td>\n      <td>unacc</td>\n    </tr>\n    <tr>\n      <th>1</th>\n      <td>vhigh</td>\n      <td>vhigh</td>\n      <td>2</td>\n      <td>2</td>\n      <td>small</td>\n      <td>high</td>\n      <td>unacc</td>\n    </tr>\n    <tr>\n      <th>2</th>\n      <td>vhigh</td>\n      <td>vhigh</td>\n      <td>2</td>\n      <td>2</td>\n      <td>med</td>\n      <td>low</td>\n      <td>unacc</td>\n    </tr>\n    <tr>\n      <th>3</th>\n      <td>vhigh</td>\n      <td>vhigh</td>\n      <td>2</td>\n      <td>2</td>\n      <td>med</td>\n      <td>med</td>\n      <td>unacc</td>\n    </tr>\n    <tr>\n      <th>4</th>\n      <td>vhigh</td>\n      <td>vhigh</td>\n      <td>2</td>\n      <td>2</td>\n      <td>med</td>\n      <td>high</td>\n      <td>unacc</td>\n    </tr>\n    <tr>\n      <th>...</th>\n      <td>...</td>\n      <td>...</td>\n      <td>...</td>\n      <td>...</td>\n      <td>...</td>\n      <td>...</td>\n      <td>...</td>\n    </tr>\n    <tr>\n      <th>1722</th>\n      <td>low</td>\n      <td>low</td>\n      <td>5more</td>\n      <td>more</td>\n      <td>med</td>\n      <td>med</td>\n      <td>good</td>\n    </tr>\n    <tr>\n      <th>1723</th>\n      <td>low</td>\n      <td>low</td>\n      <td>5more</td>\n      <td>more</td>\n      <td>med</td>\n      <td>high</td>\n      <td>vgood</td>\n    </tr>\n    <tr>\n      <th>1724</th>\n      <td>low</td>\n      <td>low</td>\n      <td>5more</td>\n      <td>more</td>\n      <td>big</td>\n      <td>low</td>\n      <td>unacc</td>\n    </tr>\n    <tr>\n      <th>1725</th>\n      <td>low</td>\n      <td>low</td>\n      <td>5more</td>\n      <td>more</td>\n      <td>big</td>\n      <td>med</td>\n      <td>good</td>\n    </tr>\n    <tr>\n      <th>1726</th>\n      <td>low</td>\n      <td>low</td>\n      <td>5more</td>\n      <td>more</td>\n      <td>big</td>\n      <td>high</td>\n      <td>vgood</td>\n    </tr>\n  </tbody>\n</table>\n<p>1727 rows × 7 columns</p>\n</div>"
          },
          "metadata": {}
        }
      ]
    },
    {
      "cell_type": "markdown",
      "source": "#### Creating Arrays",
      "metadata": {
        "tags": [],
        "cell_id": "00004-667dfd0f-7816-44c9-979b-6fbae1291ae6",
        "deepnote_cell_type": "markdown"
      }
    },
    {
      "cell_type": "code",
      "metadata": {
        "tags": [],
        "deepnote_to_be_reexecuted": false,
        "source_hash": "8455ef4a",
        "execution_start": 1619614919571,
        "execution_millis": 1,
        "cell_id": "00005-35c78f0d-22c4-468a-ae43-777f864a95a6",
        "deepnote_cell_type": "code"
      },
      "source": "y=df[\"unacc\"]\nX=df.drop(\"unacc\",axis=1)",
      "execution_count": 6,
      "outputs": []
    },
    {
      "cell_type": "markdown",
      "source": "#### Modelling",
      "metadata": {
        "tags": [],
        "cell_id": "00006-ca64c286-1d4b-4d37-89c2-8b3a88e0d472",
        "deepnote_cell_type": "markdown"
      }
    },
    {
      "cell_type": "code",
      "metadata": {
        "tags": [],
        "deepnote_to_be_reexecuted": false,
        "source_hash": "62f97e31",
        "execution_start": 1619615042967,
        "execution_millis": 6,
        "cell_id": "00007-63a21cad-6919-4d8f-8704-11daf0e82c8a",
        "deepnote_cell_type": "code"
      },
      "source": "X_train,X_test, y_train, y_test=train_test_split(X,y,random_state=0,train_size=0.8)\nclf_2= DecisionTreeClassifier(random_state=0)#,criterion=\"gini\",splitter=\"random\",max_depth=4)#min_samples_leaf=5)\nclf_2.fit(X_train,y_train)\ny_predict=clf_2.predict(X_test)\nmetrics.accuracy_score(y_predict, y_test)\n",
      "execution_count": 8,
      "outputs": [
        {
          "output_type": "error",
          "ename": "ValueError",
          "evalue": "could not convert string to float: 'low'",
          "traceback": [
            "\u001b[0;31m---------------------------------------------------------------------------\u001b[0m",
            "\u001b[0;31mValueError\u001b[0m                                Traceback (most recent call last)",
            "\u001b[0;32m<ipython-input-8-91b33ee9415c>\u001b[0m in \u001b[0;36m<module>\u001b[0;34m\u001b[0m\n\u001b[1;32m      1\u001b[0m \u001b[0mX_train\u001b[0m\u001b[0;34m,\u001b[0m\u001b[0mX_test\u001b[0m\u001b[0;34m,\u001b[0m \u001b[0my_train\u001b[0m\u001b[0;34m,\u001b[0m \u001b[0my_test\u001b[0m\u001b[0;34m=\u001b[0m\u001b[0mtrain_test_split\u001b[0m\u001b[0;34m(\u001b[0m\u001b[0mX\u001b[0m\u001b[0;34m,\u001b[0m\u001b[0my\u001b[0m\u001b[0;34m,\u001b[0m\u001b[0mrandom_state\u001b[0m\u001b[0;34m=\u001b[0m\u001b[0;36m0\u001b[0m\u001b[0;34m,\u001b[0m\u001b[0mtrain_size\u001b[0m\u001b[0;34m=\u001b[0m\u001b[0;36m0.8\u001b[0m\u001b[0;34m)\u001b[0m\u001b[0;34m\u001b[0m\u001b[0;34m\u001b[0m\u001b[0m\n\u001b[1;32m      2\u001b[0m \u001b[0mclf_2\u001b[0m\u001b[0;34m=\u001b[0m \u001b[0mDecisionTreeClassifier\u001b[0m\u001b[0;34m(\u001b[0m\u001b[0mrandom_state\u001b[0m\u001b[0;34m=\u001b[0m\u001b[0;36m0\u001b[0m\u001b[0;34m)\u001b[0m\u001b[0;31m#,criterion=\"gini\",splitter=\"random\",max_depth=4)#min_samples_leaf=5)\u001b[0m\u001b[0;34m\u001b[0m\u001b[0;34m\u001b[0m\u001b[0m\n\u001b[0;32m----> 3\u001b[0;31m \u001b[0mclf_2\u001b[0m\u001b[0;34m.\u001b[0m\u001b[0mfit\u001b[0m\u001b[0;34m(\u001b[0m\u001b[0mX_train\u001b[0m\u001b[0;34m,\u001b[0m\u001b[0my_train\u001b[0m\u001b[0;34m)\u001b[0m\u001b[0;34m\u001b[0m\u001b[0;34m\u001b[0m\u001b[0m\n\u001b[0m\u001b[1;32m      4\u001b[0m \u001b[0my_predict\u001b[0m\u001b[0;34m=\u001b[0m\u001b[0mclf_2\u001b[0m\u001b[0;34m.\u001b[0m\u001b[0mpredict\u001b[0m\u001b[0;34m(\u001b[0m\u001b[0mX_test\u001b[0m\u001b[0;34m)\u001b[0m\u001b[0;34m\u001b[0m\u001b[0;34m\u001b[0m\u001b[0m\n\u001b[1;32m      5\u001b[0m \u001b[0mmetrics\u001b[0m\u001b[0;34m.\u001b[0m\u001b[0maccuracy_score\u001b[0m\u001b[0;34m(\u001b[0m\u001b[0my_predict\u001b[0m\u001b[0;34m,\u001b[0m \u001b[0my_test\u001b[0m\u001b[0;34m)\u001b[0m\u001b[0;34m\u001b[0m\u001b[0;34m\u001b[0m\u001b[0m\n",
            "\u001b[0;32m/shared-libs/python3.7/py/lib/python3.7/site-packages/sklearn/tree/_classes.py\u001b[0m in \u001b[0;36mfit\u001b[0;34m(self, X, y, sample_weight, check_input, X_idx_sorted)\u001b[0m\n\u001b[1;32m    900\u001b[0m             \u001b[0msample_weight\u001b[0m\u001b[0;34m=\u001b[0m\u001b[0msample_weight\u001b[0m\u001b[0;34m,\u001b[0m\u001b[0;34m\u001b[0m\u001b[0;34m\u001b[0m\u001b[0m\n\u001b[1;32m    901\u001b[0m             \u001b[0mcheck_input\u001b[0m\u001b[0;34m=\u001b[0m\u001b[0mcheck_input\u001b[0m\u001b[0;34m,\u001b[0m\u001b[0;34m\u001b[0m\u001b[0;34m\u001b[0m\u001b[0m\n\u001b[0;32m--> 902\u001b[0;31m             X_idx_sorted=X_idx_sorted)\n\u001b[0m\u001b[1;32m    903\u001b[0m         \u001b[0;32mreturn\u001b[0m \u001b[0mself\u001b[0m\u001b[0;34m\u001b[0m\u001b[0;34m\u001b[0m\u001b[0m\n\u001b[1;32m    904\u001b[0m \u001b[0;34m\u001b[0m\u001b[0m\n",
            "\u001b[0;32m/shared-libs/python3.7/py/lib/python3.7/site-packages/sklearn/tree/_classes.py\u001b[0m in \u001b[0;36mfit\u001b[0;34m(self, X, y, sample_weight, check_input, X_idx_sorted)\u001b[0m\n\u001b[1;32m    156\u001b[0m             X, y = self._validate_data(X, y,\n\u001b[1;32m    157\u001b[0m                                        validate_separately=(check_X_params,\n\u001b[0;32m--> 158\u001b[0;31m                                                             check_y_params))\n\u001b[0m\u001b[1;32m    159\u001b[0m             \u001b[0;32mif\u001b[0m \u001b[0missparse\u001b[0m\u001b[0;34m(\u001b[0m\u001b[0mX\u001b[0m\u001b[0;34m)\u001b[0m\u001b[0;34m:\u001b[0m\u001b[0;34m\u001b[0m\u001b[0;34m\u001b[0m\u001b[0m\n\u001b[1;32m    160\u001b[0m                 \u001b[0mX\u001b[0m\u001b[0;34m.\u001b[0m\u001b[0msort_indices\u001b[0m\u001b[0;34m(\u001b[0m\u001b[0;34m)\u001b[0m\u001b[0;34m\u001b[0m\u001b[0;34m\u001b[0m\u001b[0m\n",
            "\u001b[0;32m/shared-libs/python3.7/py/lib/python3.7/site-packages/sklearn/base.py\u001b[0m in \u001b[0;36m_validate_data\u001b[0;34m(self, X, y, reset, validate_separately, **check_params)\u001b[0m\n\u001b[1;32m    428\u001b[0m                 \u001b[0;31m# :(\u001b[0m\u001b[0;34m\u001b[0m\u001b[0;34m\u001b[0m\u001b[0;34m\u001b[0m\u001b[0m\n\u001b[1;32m    429\u001b[0m                 \u001b[0mcheck_X_params\u001b[0m\u001b[0;34m,\u001b[0m \u001b[0mcheck_y_params\u001b[0m \u001b[0;34m=\u001b[0m \u001b[0mvalidate_separately\u001b[0m\u001b[0;34m\u001b[0m\u001b[0;34m\u001b[0m\u001b[0m\n\u001b[0;32m--> 430\u001b[0;31m                 \u001b[0mX\u001b[0m \u001b[0;34m=\u001b[0m \u001b[0mcheck_array\u001b[0m\u001b[0;34m(\u001b[0m\u001b[0mX\u001b[0m\u001b[0;34m,\u001b[0m \u001b[0;34m**\u001b[0m\u001b[0mcheck_X_params\u001b[0m\u001b[0;34m)\u001b[0m\u001b[0;34m\u001b[0m\u001b[0;34m\u001b[0m\u001b[0m\n\u001b[0m\u001b[1;32m    431\u001b[0m                 \u001b[0my\u001b[0m \u001b[0;34m=\u001b[0m \u001b[0mcheck_array\u001b[0m\u001b[0;34m(\u001b[0m\u001b[0my\u001b[0m\u001b[0;34m,\u001b[0m \u001b[0;34m**\u001b[0m\u001b[0mcheck_y_params\u001b[0m\u001b[0;34m)\u001b[0m\u001b[0;34m\u001b[0m\u001b[0;34m\u001b[0m\u001b[0m\n\u001b[1;32m    432\u001b[0m             \u001b[0;32melse\u001b[0m\u001b[0;34m:\u001b[0m\u001b[0;34m\u001b[0m\u001b[0;34m\u001b[0m\u001b[0m\n",
            "\u001b[0;32m/shared-libs/python3.7/py/lib/python3.7/site-packages/sklearn/utils/validation.py\u001b[0m in \u001b[0;36minner_f\u001b[0;34m(*args, **kwargs)\u001b[0m\n\u001b[1;32m     61\u001b[0m             \u001b[0mextra_args\u001b[0m \u001b[0;34m=\u001b[0m \u001b[0mlen\u001b[0m\u001b[0;34m(\u001b[0m\u001b[0margs\u001b[0m\u001b[0;34m)\u001b[0m \u001b[0;34m-\u001b[0m \u001b[0mlen\u001b[0m\u001b[0;34m(\u001b[0m\u001b[0mall_args\u001b[0m\u001b[0;34m)\u001b[0m\u001b[0;34m\u001b[0m\u001b[0;34m\u001b[0m\u001b[0m\n\u001b[1;32m     62\u001b[0m             \u001b[0;32mif\u001b[0m \u001b[0mextra_args\u001b[0m \u001b[0;34m<=\u001b[0m \u001b[0;36m0\u001b[0m\u001b[0;34m:\u001b[0m\u001b[0;34m\u001b[0m\u001b[0;34m\u001b[0m\u001b[0m\n\u001b[0;32m---> 63\u001b[0;31m                 \u001b[0;32mreturn\u001b[0m \u001b[0mf\u001b[0m\u001b[0;34m(\u001b[0m\u001b[0;34m*\u001b[0m\u001b[0margs\u001b[0m\u001b[0;34m,\u001b[0m \u001b[0;34m**\u001b[0m\u001b[0mkwargs\u001b[0m\u001b[0;34m)\u001b[0m\u001b[0;34m\u001b[0m\u001b[0;34m\u001b[0m\u001b[0m\n\u001b[0m\u001b[1;32m     64\u001b[0m \u001b[0;34m\u001b[0m\u001b[0m\n\u001b[1;32m     65\u001b[0m             \u001b[0;31m# extra_args > 0\u001b[0m\u001b[0;34m\u001b[0m\u001b[0;34m\u001b[0m\u001b[0;34m\u001b[0m\u001b[0m\n",
            "\u001b[0;32m/shared-libs/python3.7/py/lib/python3.7/site-packages/sklearn/utils/validation.py\u001b[0m in \u001b[0;36mcheck_array\u001b[0;34m(array, accept_sparse, accept_large_sparse, dtype, order, copy, force_all_finite, ensure_2d, allow_nd, ensure_min_samples, ensure_min_features, estimator)\u001b[0m\n\u001b[1;32m    614\u001b[0m                     \u001b[0marray\u001b[0m \u001b[0;34m=\u001b[0m \u001b[0marray\u001b[0m\u001b[0;34m.\u001b[0m\u001b[0mastype\u001b[0m\u001b[0;34m(\u001b[0m\u001b[0mdtype\u001b[0m\u001b[0;34m,\u001b[0m \u001b[0mcasting\u001b[0m\u001b[0;34m=\u001b[0m\u001b[0;34m\"unsafe\"\u001b[0m\u001b[0;34m,\u001b[0m \u001b[0mcopy\u001b[0m\u001b[0;34m=\u001b[0m\u001b[0;32mFalse\u001b[0m\u001b[0;34m)\u001b[0m\u001b[0;34m\u001b[0m\u001b[0;34m\u001b[0m\u001b[0m\n\u001b[1;32m    615\u001b[0m                 \u001b[0;32melse\u001b[0m\u001b[0;34m:\u001b[0m\u001b[0;34m\u001b[0m\u001b[0;34m\u001b[0m\u001b[0m\n\u001b[0;32m--> 616\u001b[0;31m                     \u001b[0marray\u001b[0m \u001b[0;34m=\u001b[0m \u001b[0mnp\u001b[0m\u001b[0;34m.\u001b[0m\u001b[0masarray\u001b[0m\u001b[0;34m(\u001b[0m\u001b[0marray\u001b[0m\u001b[0;34m,\u001b[0m \u001b[0morder\u001b[0m\u001b[0;34m=\u001b[0m\u001b[0morder\u001b[0m\u001b[0;34m,\u001b[0m \u001b[0mdtype\u001b[0m\u001b[0;34m=\u001b[0m\u001b[0mdtype\u001b[0m\u001b[0;34m)\u001b[0m\u001b[0;34m\u001b[0m\u001b[0;34m\u001b[0m\u001b[0m\n\u001b[0m\u001b[1;32m    617\u001b[0m             \u001b[0;32mexcept\u001b[0m \u001b[0mComplexWarning\u001b[0m \u001b[0;32mas\u001b[0m \u001b[0mcomplex_warning\u001b[0m\u001b[0;34m:\u001b[0m\u001b[0;34m\u001b[0m\u001b[0;34m\u001b[0m\u001b[0m\n\u001b[1;32m    618\u001b[0m                 raise ValueError(\"Complex data not supported\\n\"\n",
            "\u001b[0;32m/shared-libs/python3.7/py/lib/python3.7/site-packages/numpy/core/_asarray.py\u001b[0m in \u001b[0;36masarray\u001b[0;34m(a, dtype, order)\u001b[0m\n\u001b[1;32m     81\u001b[0m \u001b[0;34m\u001b[0m\u001b[0m\n\u001b[1;32m     82\u001b[0m     \"\"\"\n\u001b[0;32m---> 83\u001b[0;31m     \u001b[0;32mreturn\u001b[0m \u001b[0marray\u001b[0m\u001b[0;34m(\u001b[0m\u001b[0ma\u001b[0m\u001b[0;34m,\u001b[0m \u001b[0mdtype\u001b[0m\u001b[0;34m,\u001b[0m \u001b[0mcopy\u001b[0m\u001b[0;34m=\u001b[0m\u001b[0;32mFalse\u001b[0m\u001b[0;34m,\u001b[0m \u001b[0morder\u001b[0m\u001b[0;34m=\u001b[0m\u001b[0morder\u001b[0m\u001b[0;34m)\u001b[0m\u001b[0;34m\u001b[0m\u001b[0;34m\u001b[0m\u001b[0m\n\u001b[0m\u001b[1;32m     84\u001b[0m \u001b[0;34m\u001b[0m\u001b[0m\n\u001b[1;32m     85\u001b[0m \u001b[0;34m\u001b[0m\u001b[0m\n",
            "\u001b[0;32m/shared-libs/python3.7/py/lib/python3.7/site-packages/pandas/core/generic.py\u001b[0m in \u001b[0;36m__array__\u001b[0;34m(self, dtype)\u001b[0m\n\u001b[1;32m   1897\u001b[0m \u001b[0;34m\u001b[0m\u001b[0m\n\u001b[1;32m   1898\u001b[0m     \u001b[0;32mdef\u001b[0m \u001b[0m__array__\u001b[0m\u001b[0;34m(\u001b[0m\u001b[0mself\u001b[0m\u001b[0;34m,\u001b[0m \u001b[0mdtype\u001b[0m\u001b[0;34m=\u001b[0m\u001b[0;32mNone\u001b[0m\u001b[0;34m)\u001b[0m \u001b[0;34m->\u001b[0m \u001b[0mnp\u001b[0m\u001b[0;34m.\u001b[0m\u001b[0mndarray\u001b[0m\u001b[0;34m:\u001b[0m\u001b[0;34m\u001b[0m\u001b[0;34m\u001b[0m\u001b[0m\n\u001b[0;32m-> 1899\u001b[0;31m         \u001b[0;32mreturn\u001b[0m \u001b[0mnp\u001b[0m\u001b[0;34m.\u001b[0m\u001b[0masarray\u001b[0m\u001b[0;34m(\u001b[0m\u001b[0mself\u001b[0m\u001b[0;34m.\u001b[0m\u001b[0m_values\u001b[0m\u001b[0;34m,\u001b[0m \u001b[0mdtype\u001b[0m\u001b[0;34m=\u001b[0m\u001b[0mdtype\u001b[0m\u001b[0;34m)\u001b[0m\u001b[0;34m\u001b[0m\u001b[0;34m\u001b[0m\u001b[0m\n\u001b[0m\u001b[1;32m   1900\u001b[0m \u001b[0;34m\u001b[0m\u001b[0m\n\u001b[1;32m   1901\u001b[0m     def __array_wrap__(\n",
            "\u001b[0;32m/shared-libs/python3.7/py/lib/python3.7/site-packages/numpy/core/_asarray.py\u001b[0m in \u001b[0;36masarray\u001b[0;34m(a, dtype, order)\u001b[0m\n\u001b[1;32m     81\u001b[0m \u001b[0;34m\u001b[0m\u001b[0m\n\u001b[1;32m     82\u001b[0m     \"\"\"\n\u001b[0;32m---> 83\u001b[0;31m     \u001b[0;32mreturn\u001b[0m \u001b[0marray\u001b[0m\u001b[0;34m(\u001b[0m\u001b[0ma\u001b[0m\u001b[0;34m,\u001b[0m \u001b[0mdtype\u001b[0m\u001b[0;34m,\u001b[0m \u001b[0mcopy\u001b[0m\u001b[0;34m=\u001b[0m\u001b[0;32mFalse\u001b[0m\u001b[0;34m,\u001b[0m \u001b[0morder\u001b[0m\u001b[0;34m=\u001b[0m\u001b[0morder\u001b[0m\u001b[0;34m)\u001b[0m\u001b[0;34m\u001b[0m\u001b[0;34m\u001b[0m\u001b[0m\n\u001b[0m\u001b[1;32m     84\u001b[0m \u001b[0;34m\u001b[0m\u001b[0m\n\u001b[1;32m     85\u001b[0m \u001b[0;34m\u001b[0m\u001b[0m\n",
            "\u001b[0;31mValueError\u001b[0m: could not convert string to float: 'low'"
          ]
        }
      ]
    },
    {
      "cell_type": "code",
      "metadata": {
        "tags": [],
        "deepnote_to_be_reexecuted": false,
        "source_hash": "e4b976de",
        "execution_start": 1619613301915,
        "execution_millis": 14,
        "cell_id": "00008-7822e629-7c9f-4565-b918-b816de3a1d9b",
        "deepnote_cell_type": "code"
      },
      "source": "\nclf_1= DecisionTreeClassifier(random_state=3,criterion=\"entropy\",)#,max_depth=10)#,min_samples_leaf=1)\nclf_1.fit(X_train,y_train)\ny_predict_2=clf_1.predict(X_test)\nmetrics.accuracy_score(y_predict_2, y_test)\n",
      "execution_count": 74,
      "outputs": [
        {
          "output_type": "execute_result",
          "execution_count": 74,
          "data": {
            "text/plain": "0.05"
          },
          "metadata": {}
        }
      ]
    },
    {
      "cell_type": "markdown",
      "source": "#### Evaluation",
      "metadata": {
        "tags": [],
        "cell_id": "00009-84328165-db2e-4ee1-9d1f-676b7b799b90",
        "deepnote_cell_type": "markdown"
      }
    },
    {
      "cell_type": "code",
      "metadata": {
        "tags": [],
        "cell_id": "00010-3f2d7999-682e-45b4-b895-702710fb9e85",
        "deepnote_cell_type": "code"
      },
      "source": "",
      "execution_count": null,
      "outputs": []
    },
    {
      "cell_type": "code",
      "metadata": {
        "tags": [],
        "deepnote_to_be_reexecuted": false,
        "source_hash": "9cb1ecb3",
        "execution_start": 1619612199011,
        "execution_millis": 11,
        "cell_id": "00011-7cc29532-e5ba-49ef-b8ca-43ea02737f2f",
        "deepnote_cell_type": "code"
      },
      "source": "",
      "execution_count": 27,
      "outputs": [
        {
          "output_type": "execute_result",
          "execution_count": 27,
          "data": {
            "text/plain": "0.0"
          },
          "metadata": {}
        }
      ]
    },
    {
      "cell_type": "code",
      "metadata": {
        "tags": [],
        "deepnote_to_be_reexecuted": false,
        "source_hash": "b623e53d",
        "execution_start": 1619612021492,
        "execution_millis": 2,
        "cell_id": "00012-f34f3287-4442-48e7-b38d-29ba163ba8c9",
        "deepnote_cell_type": "code"
      },
      "source": "",
      "execution_count": 25,
      "outputs": []
    },
    {
      "cell_type": "code",
      "metadata": {
        "tags": [],
        "cell_id": "00013-f9ee63b1-f905-4059-8d50-cdb2e07e12e2",
        "deepnote_cell_type": "code"
      },
      "source": "",
      "execution_count": null,
      "outputs": []
    },
    {
      "cell_type": "markdown",
      "source": "<a style='text-decoration:none;line-height:16px;display:flex;color:#5B5B62;padding:10px;justify-content:end;' href='https://deepnote.com?utm_source=created-in-deepnote-cell&projectId=fb7530d9-a137-4e94-b4b0-3ca068a44035' target=\"_blank\">\n<img alt='Created in deepnote.com' style='display:inline;max-height:16px;margin:0px;margin-right:7.5px;' src='data:image/svg+xml;base64,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' > </img>\nCreated in <span style='font-weight:600;margin-left:4px;'>Deepnote</span></a>",
      "metadata": {
        "tags": [],
        "created_in_deepnote_cell": true,
        "deepnote_cell_type": "markdown"
      }
    }
  ],
  "nbformat": 4,
  "nbformat_minor": 2,
  "metadata": {
    "orig_nbformat": 2,
    "deepnote": {
      "is_reactive": false
    },
    "deepnote_notebook_id": "749687b5-c62e-4d1e-bedc-9eccb0fdf063",
    "deepnote_execution_queue": []
  }
}
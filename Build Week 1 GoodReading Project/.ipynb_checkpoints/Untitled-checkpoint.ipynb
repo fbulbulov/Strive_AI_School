{
 "cells": [
  {
   "cell_type": "code",
   "execution_count": 18,
   "metadata": {},
   "outputs": [],
   "source": [
    "import pandas as pd\n",
    "import numpy as np\n",
    "import requests\n",
    "from bs4 import BeautifulSoup\n",
    "from requests import get"
   ]
  },
  {
   "cell_type": "code",
   "execution_count": 19,
   "metadata": {},
   "outputs": [
    {
     "name": "stdout",
     "output_type": "stream",
     "text": [
      "J.K. Rowling\n"
     ]
    }
   ],
   "source": [
    "def get_hundred_book_links():\n",
    "    page = requests.get(url=\"https://www.goodreads.com/list/show/1.Best_Books_Ever?page=1\")\n",
    "    soup = BeautifulSoup(page.content, 'html.parser')\n",
    "    links_section = soup.find_all('a', class_=\"bookTitle\", href=True)\n",
    "    final_links = [\"https://www.goodreads.com\" + link['href'] for link in links_section]\n",
    "    return final_links\n",
    "\n",
    "\n",
    "get_hundred_book_links()\n",
    "\n",
    "\n",
    "### Individual page\n",
    "def get_author(page_url):\n",
    "    request = requests.get(page_url)\n",
    "    page_soup = BeautifulSoup(request.content, 'html.parser')\n",
    "    author_section = page_soup.find('a', class_=\"authorName\").get_text()\n",
    "    return author_section\n",
    "\n",
    "test = get_author(\"https://www.goodreads.com/book/show/2.Harry_Potter_and_the_Order_of_the_Phoenix\")\n",
    "\n",
    "print(test)\n",
    "def main(page_url):\n",
    "    author = get_author()"
   ]
  },
  {
   "cell_type": "code",
   "execution_count": 32,
   "metadata": {},
   "outputs": [
    {
     "name": "stdout",
     "output_type": "stream",
     "text": [
      "45345\n"
     ]
    }
   ],
   "source": [
    "def get_num_reviews(page_url):\n",
    "    request=requests.get(page_url)\n",
    "    page_soup=BeautifulSoup(request.content,'html.parser')\n",
    "    get_num_unclean=page_soup.find('meta',itemprop=\"reviewCount\")\n",
    "    get_num_reviews=int(get_num_unclean['content'])\n",
    "    return get_num_reviews\n",
    "test2=get_num_reviews(\"https://www.goodreads.com/book/show/2.Harry_Potter_and_the_Order_of_the_Phoenix\")\n",
    "print(test2)"
   ]
  },
  {
   "cell_type": "code",
   "execution_count": null,
   "metadata": {},
   "outputs": [],
   "source": [
    "# Average rate\n",
    "def get_avg(page_url):\n",
    "    request=requests.get(page_url)\n",
    "    page_soup=BeautifulSoup(request.content,'html.parser')\n",
    "    \n",
    "    get_avg=float(page_soup.find('span',itemprop=\"ratingValue\").get_text())\n",
    "    return get_avg\n",
    "\n",
    "test3=get_avg(\"https://www.goodreads.com/book/show/2.Harry_Potter_and_the_Order_of_the_Phoenix\")\n",
    "\n",
    "print(test3)"
   ]
  },
  {
   "cell_type": "code",
   "execution_count": 46,
   "metadata": {},
   "outputs": [
    {
     "name": "stdout",
     "output_type": "stream",
     "text": [
      "\n",
      "Paperback, US Edition, 870 pages\n",
      "\n",
      "            Published\n",
      "        September 2004\n",
      "         by Scholastic Inc.\n",
      "\n",
      "            \n",
      "              (first published June 21st 2003)\n",
      "            \n",
      "\n",
      "\n",
      "More Details...\n",
      "\n",
      "\n",
      "Original Title\n",
      "Harry Potter and the Order of the Phoenix\n",
      "\n",
      "\n",
      "Edition Language\n",
      "English\n",
      "\n",
      "\n",
      "Series\n",
      "\n",
      "Harry Potter #5 \n",
      "\n",
      "\n",
      "Characters\n",
      "\n",
      "Sirius Black, Draco Malfoy, Ron Weasley, Petunia Dursley, Vernon Dursley...more, Dudley Dursley, Severus Snape, Rubeus Hagrid, Lord Voldemort, Minerva McGonagall, Neville Longbottom, Fred Weasley, George Weasley, Percy Weasley, Ginny Weasley, Colin Creevey, Filius Flitwick, Gilderoy Lockhart, Lucius Malfoy, Pomona Sprout, Arthur Weasley, Molly Weasley, Cho Chang, Cornelius Fudge, Remus Lupin, Sybil Trelawney, Stan Shunpike, Bellatrix Lestrange, Alastor Moody, Rita Skeeter, Luna Lovegood, Nymphadora Tonks, Dolores Umbridge, Dobby, Kingsley Shacklebolt, Padma Patil, Parvati Patil, Kreacher, Dean Thomas, Seamus Finnigan, Albus Dumbledore, Harry Potter, Hermione Granger, Lavender Brown...less\n",
      "\n",
      "\n",
      "Setting\n",
      "\n",
      "Hogwarts School of Witchcraft and Wizardry\n",
      "\n",
      "(United Kingdom)\n",
      "\n",
      "\n",
      "London, England\n",
      "\n",
      "(United Kingdom)\n",
      "\n",
      "\n",
      "\n",
      "\n",
      "\n",
      "Literary Awards\n",
      "\n",
      "Bram Stoker Award for Works for Young Readers (2003), Anthony Award for Young Adult (2004), Mythopoeic Fantasy Award for Children's Literature (2008), Audie Award for Audiobook of the Year (2004), Books I Loved Best Yearly (BILBY) Awards for Older Readers (2004)\n",
      "...more\n",
      "Colorado Blue Spruce Young Adult Book Award (2006), Golden Archer Award for Middle/Junior High (2005), Deutscher Jugendliteraturpreis Nominee for Preis der Jugendjury (2004), Carnegie Medal Nominee (2003)\n",
      "...less \n",
      "\n",
      "\n",
      "\n",
      "\n",
      "Other Editions (444)\n",
      "\n",
      "\n",
      "\n",
      "\n",
      "\n",
      "\n",
      "\n",
      "\n",
      "\n",
      "\n",
      "\n",
      "\n",
      "\n",
      "\n",
      "\n",
      "\n",
      "\n",
      "\n",
      "\n",
      "\n",
      "\n",
      "\n",
      "\n",
      "\n",
      "\n",
      "\n",
      "\n",
      "\n",
      "\n",
      "\n",
      "\n",
      "\n",
      "\n",
      "\n",
      "\n",
      "All Editions\n",
      "\n",
      " | \n",
      "\n",
      "Add a New Edition\n",
      "\n",
      " | \n",
      "\n",
      "Combine\n",
      "\n",
      "\n",
      "\n",
      "...Less Detail\n",
      "Edit Details\n",
      "\n",
      "\n",
      "\n"
     ]
    }
   ],
   "source": [
    "# Place (setting)\n",
    "def get_place(page_url):\n",
    "    request=requests.get(page_url)\n",
    "    page_soup=BeautifulSoup(request.content,'html.parser')\n",
    "    \n",
    "    get_place=(page_soup.find('div',class_=\"darkGreyText\").get_text())\n",
    "    return get_place\n",
    "\n",
    "test5=get_place(\"https://www.goodreads.com/book/show/2.Harry_Potter_and_the_Order_of_the_Phoenix\")\n",
    "\n",
    "print(test5)"
   ]
  },
  {
   "cell_type": "code",
   "execution_count": null,
   "metadata": {},
   "outputs": [],
   "source": []
  }
 ],
 "metadata": {
  "kernelspec": {
   "display_name": "Python 3",
   "language": "python",
   "name": "python3"
  },
  "language_info": {
   "codemirror_mode": {
    "name": "ipython",
    "version": 3
   },
   "file_extension": ".py",
   "mimetype": "text/x-python",
   "name": "python",
   "nbconvert_exporter": "python",
   "pygments_lexer": "ipython3",
   "version": "3.8.5"
  }
 },
 "nbformat": 4,
 "nbformat_minor": 4
}

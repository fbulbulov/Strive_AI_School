{
 "cells": [
  {
   "cell_type": "markdown",
   "metadata": {},
   "source": [
    "**Exercise 5.8 (🌶️):** A, B, C, and D are all different digits. The number DCBA is equal to 4 times the number ABCD. What are the digits? Note: to make ABCD and DCBA conventional numbers, neither A nor D can be zero. Use a quadruple-nested loop."
   ]
  },
  {
   "cell_type": "code",
   "execution_count": 17,
   "metadata": {},
   "outputs": [
    {
     "name": "stdout",
     "output_type": "stream",
     "text": [
      "A= 8\n",
      "B= 7\n",
      "C= 1\n",
      "D= 2\n",
      "ABCD = 8712\n"
     ]
    }
   ],
   "source": [
    "#Your Code Here\n",
    "# Solve 4*ABCD == DCBA\n",
    "for a in range(1,10):\n",
    "    x = str(a)\n",
    "    for b in range(0,10):\n",
    "        y= str(b)\n",
    "        for c in range(0,10):\n",
    "            z= str(c)\n",
    "            for d in range(1,10):\n",
    "                w= str(d)\n",
    "                nest = (x + y + z +w)\n",
    "               \n",
    "                m=int(nest)\n",
    "                q=nest[::-1]\n",
    "                i=int(q)\n",
    "\n",
    "                if m==4*i:\n",
    "                    \n",
    "                    print ( \"A=\", x)\n",
    "                    print (\"B=\", y)\n",
    "                    print (\"C=\", z)\n",
    "                    print (\"D=\", w)\n",
    "                    print(\"ABCD =\",m)\n",
    "                   \n",
    "    "
   ]
  }
 ],
 "metadata": {
  "kernelspec": {
   "display_name": "Python 3",
   "language": "python",
   "name": "python3"
  },
  "language_info": {
   "codemirror_mode": {
    "name": "ipython",
    "version": 3
   },
   "file_extension": ".py",
   "mimetype": "text/x-python",
   "name": "python",
   "nbconvert_exporter": "python",
   "pygments_lexer": "ipython3",
   "version": "3.8.5"
  }
 },
 "nbformat": 4,
 "nbformat_minor": 4
}

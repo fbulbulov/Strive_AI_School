{
 "cells": [
  {
   "cell_type": "code",
   "execution_count": 1,
   "metadata": {},
   "outputs": [],
   "source": [
    "# import the needed libraries and datasets\n",
    "import pandas as pd\n",
    "import numpy as np"
   ]
  },
  {
   "cell_type": "markdown",
   "metadata": {},
   "source": [
    "**23.** Given a DataFrame of numeric values, say\n",
    "```python\n",
    "df = pd.DataFrame(np.random.random(size=(5, 3))) # a 5x3 frame of float values\n",
    "```\n",
    "\n",
    "how do you subtract the row mean from each element in the row?"
   ]
  },
  {
   "cell_type": "code",
   "execution_count": 2,
   "metadata": {},
   "outputs": [
    {
     "name": "stdout",
     "output_type": "stream",
     "text": [
      "          0         1         2\n",
      "0  0.589525  0.332321  0.896920\n",
      "1  0.188348  0.535124  0.607864\n",
      "2  0.454623  0.275022  0.061718\n",
      "3  0.096123  0.486172  0.671748\n",
      "4  0.307885  0.753948  0.602183\n"
     ]
    },
    {
     "data": {
      "text/html": [
       "<div>\n",
       "<style scoped>\n",
       "    .dataframe tbody tr th:only-of-type {\n",
       "        vertical-align: middle;\n",
       "    }\n",
       "\n",
       "    .dataframe tbody tr th {\n",
       "        vertical-align: top;\n",
       "    }\n",
       "\n",
       "    .dataframe thead th {\n",
       "        text-align: right;\n",
       "    }\n",
       "</style>\n",
       "<table border=\"1\" class=\"dataframe\">\n",
       "  <thead>\n",
       "    <tr style=\"text-align: right;\">\n",
       "      <th></th>\n",
       "      <th>0</th>\n",
       "      <th>1</th>\n",
       "      <th>2</th>\n",
       "    </tr>\n",
       "  </thead>\n",
       "  <tbody>\n",
       "    <tr>\n",
       "      <th>0</th>\n",
       "      <td>-0.016731</td>\n",
       "      <td>-0.273934</td>\n",
       "      <td>0.290665</td>\n",
       "    </tr>\n",
       "    <tr>\n",
       "      <th>1</th>\n",
       "      <td>-0.255431</td>\n",
       "      <td>0.091345</td>\n",
       "      <td>0.164086</td>\n",
       "    </tr>\n",
       "    <tr>\n",
       "      <th>2</th>\n",
       "      <td>0.190835</td>\n",
       "      <td>0.011235</td>\n",
       "      <td>-0.202070</td>\n",
       "    </tr>\n",
       "    <tr>\n",
       "      <th>3</th>\n",
       "      <td>-0.321891</td>\n",
       "      <td>0.068158</td>\n",
       "      <td>0.253734</td>\n",
       "    </tr>\n",
       "    <tr>\n",
       "      <th>4</th>\n",
       "      <td>-0.246787</td>\n",
       "      <td>0.199276</td>\n",
       "      <td>0.047511</td>\n",
       "    </tr>\n",
       "  </tbody>\n",
       "</table>\n",
       "</div>"
      ],
      "text/plain": [
       "          0         1         2\n",
       "0 -0.016731 -0.273934  0.290665\n",
       "1 -0.255431  0.091345  0.164086\n",
       "2  0.190835  0.011235 -0.202070\n",
       "3 -0.321891  0.068158  0.253734\n",
       "4 -0.246787  0.199276  0.047511"
      ]
     },
     "execution_count": 2,
     "metadata": {},
     "output_type": "execute_result"
    }
   ],
   "source": [
    "df = pd.DataFrame(np.random.random(size=(5, 3)))\n",
    "print (df)\n",
    "df.sub(df.mean(axis=1), axis=0)"
   ]
  },
  {
   "cell_type": "markdown",
   "metadata": {},
   "source": [
    "**24.** Suppose you have DataFrame with 10 columns of real numbers, for example:\n",
    "\n",
    "```python\n",
    "df = pd.DataFrame(np.random.random(size=(5, 10)), columns=list('abcdefghij'))\n",
    "```\n",
    "Which column of numbers has the smallest sum? (Find that column's label.)"
   ]
  },
  {
   "cell_type": "code",
   "execution_count": 5,
   "metadata": {},
   "outputs": [
    {
     "name": "stdout",
     "output_type": "stream",
     "text": [
      "          a         b         c         d         e         f         g  \\\n",
      "0  0.796671  0.021393  0.429211  0.189186  0.012040  0.903377  0.223600   \n",
      "1  0.662946  0.176872  0.006330  0.502522  0.584579  0.630581  0.122870   \n",
      "2  0.282395  0.552465  0.453822  0.132464  0.657894  0.705580  0.384278   \n",
      "3  0.584392  0.372361  0.738951  0.157733  0.120760  0.557182  0.074773   \n",
      "4  0.134161  0.678565  0.339814  0.183408  0.886200  0.735379  0.577141   \n",
      "\n",
      "          h         i         j  \n",
      "0  0.047700  0.477289  0.414253  \n",
      "1  0.396303  0.651249  0.170930  \n",
      "2  0.391282  0.020591  0.969881  \n",
      "3  0.928245  0.412045  0.399550  \n",
      "4  0.956009  0.584952  0.158844  \n",
      "\n",
      "\n",
      "The smallest total sum column: d\n"
     ]
    }
   ],
   "source": [
    "df = pd.DataFrame(np.random.random(size=(5, 10)), columns=list('abcdefghij'))\n",
    "print (df)\n",
    "x= df.sum().idxmin()\n",
    "print ('\\n')\n",
    "print (\"The smallest total sum column:\", x)"
   ]
  },
  {
   "cell_type": "code",
   "execution_count": null,
   "metadata": {},
   "outputs": [],
   "source": []
  }
 ],
 "metadata": {
  "kernelspec": {
   "display_name": "Python 3",
   "language": "python",
   "name": "python3"
  },
  "language_info": {
   "codemirror_mode": {
    "name": "ipython",
    "version": 3
   },
   "file_extension": ".py",
   "mimetype": "text/x-python",
   "name": "python",
   "nbconvert_exporter": "python",
   "pygments_lexer": "ipython3",
   "version": "3.8.5"
  }
 },
 "nbformat": 4,
 "nbformat_minor": 5
}

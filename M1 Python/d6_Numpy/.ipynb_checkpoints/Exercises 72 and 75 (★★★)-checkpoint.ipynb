{
 "cells": [
  {
   "cell_type": "code",
   "execution_count": 1,
   "metadata": {
    "slideshow": {
     "slide_type": "slide"
    }
   },
   "outputs": [],
   "source": [
    "# Import the needed libraries\n",
    "import numpy as np"
   ]
  },
  {
   "cell_type": "markdown",
   "metadata": {},
   "source": [
    "**72. How to swap two rows of an array?** "
   ]
  },
  {
   "cell_type": "code",
   "execution_count": 23,
   "metadata": {},
   "outputs": [
    {
     "name": "stdout",
     "output_type": "stream",
     "text": [
      "Initial Array\n",
      "[[4 1 7]\n",
      " [3 3 8]\n",
      " [7 7 6]]\n",
      "\n",
      "\n",
      "1st and 3rd row swapped\n",
      "[[7 7 6]\n",
      " [3 3 8]\n",
      " [4 1 7]]\n"
     ]
    }
   ],
   "source": [
    "array = np.random.randint(1,10, size=(3,3))\n",
    "print (\"Initial Array\")\n",
    "print (array)\n",
    "print(\"\\n\")\n",
    "array[[0, 2]] = array[[2, 0]]\n",
    "print (\"1st and 3rd row swapped\")\n",
    "print (array)"
   ]
  },
  {
   "cell_type": "markdown",
   "metadata": {},
   "source": [
    "**75. How to compute averages using a sliding window over an array?**"
   ]
  },
  {
   "cell_type": "code",
   "execution_count": 34,
   "metadata": {},
   "outputs": [
    {
     "name": "stdout",
     "output_type": "stream",
     "text": [
      "[[6 1 8]\n",
      " [6 9 6]\n",
      " [4 8 1]]\n",
      "\n",
      "\n",
      "[ 6  7 15 21 30 36 40 48 49]\n",
      "Average: 28.0\n"
     ]
    }
   ],
   "source": [
    "array = np.random.randint(1,10, size=(3,3))\n",
    "print (array)\n",
    "a = np.cumsum(array)\n",
    "print(\"\\n\")\n",
    "print (a)\n",
    "print (\"Average:\", round(np.average(a),2))\n"
   ]
  }
 ],
 "metadata": {
  "kernelspec": {
   "display_name": "Python 3",
   "language": "python",
   "name": "python3"
  },
  "language_info": {
   "codemirror_mode": {
    "name": "ipython",
    "version": 3
   },
   "file_extension": ".py",
   "mimetype": "text/x-python",
   "name": "python",
   "nbconvert_exporter": "python",
   "pygments_lexer": "ipython3",
   "version": "3.8.5"
  }
 },
 "nbformat": 4,
 "nbformat_minor": 5
}

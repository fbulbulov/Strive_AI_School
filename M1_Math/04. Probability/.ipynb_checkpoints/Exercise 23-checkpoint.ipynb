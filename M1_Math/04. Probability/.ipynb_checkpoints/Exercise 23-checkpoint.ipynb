{
 "cells": [
  {
   "cell_type": "markdown",
   "metadata": {},
   "source": [
    "#### Exercise 23: How many different seven-letter arrangements of the letters in the word HEXAGON can be made if each letter is used only once?"
   ]
  },
  {
   "cell_type": "code",
   "execution_count": 19,
   "metadata": {},
   "outputs": [],
   "source": [
    "import numpy as np\n",
    "n = [1, 2, 3, 4, 5, 6,7]\n",
    "r = [1, 2, 3, 4, 5, 6]\n",
    "denominator = 7-6\n",
    "permuataion = np.prod(np.array(n))/denominator"
   ]
  },
  {
   "cell_type": "code",
   "execution_count": 20,
   "metadata": {},
   "outputs": [
    {
     "name": "stdout",
     "output_type": "stream",
     "text": [
      "The result is equal to 5040.0\n"
     ]
    }
   ],
   "source": [
    "print(f'The result is equal to {permuataion}')"
   ]
  }
 ],
 "metadata": {
  "kernelspec": {
   "display_name": "Python 3",
   "language": "python",
   "name": "python3"
  },
  "language_info": {
   "codemirror_mode": {
    "name": "ipython",
    "version": 3
   },
   "file_extension": ".py",
   "mimetype": "text/x-python",
   "name": "python",
   "nbconvert_exporter": "python",
   "pygments_lexer": "ipython3",
   "version": "3.8.5"
  }
 },
 "nbformat": 4,
 "nbformat_minor": 4
}

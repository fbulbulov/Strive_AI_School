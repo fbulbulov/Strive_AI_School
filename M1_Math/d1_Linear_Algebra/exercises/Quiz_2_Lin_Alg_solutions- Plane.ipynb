{
 "cells": [
  {
   "cell_type": "markdown",
   "metadata": {},
   "source": [
    "![title](./img/2_2.png)\n",
    "- Which vectors below define a plane spanned by a linear combination?"
   ]
  },
  {
   "cell_type": "code",
   "execution_count": 15,
   "metadata": {},
   "outputs": [
    {
     "name": "stdout",
     "output_type": "stream",
     "text": [
      "Plane!\n",
      "[[1 2 3]\n",
      " [2 2 2]]\n"
     ]
    }
   ],
   "source": [
    "\n",
    "def plane(a,b,c):\n",
    "    #returns false if the vectors do define a plane and returns which are those vectors if true\n",
    "    matrix = np.stack((a,b,c))\n",
    "    lambdas, V = np.linalg.eig(matrix.T)\n",
    "    e = 0.000000001\n",
    "    plane_test = abs(lambdas) > e \n",
    "    \n",
    "    if plane_test.sum() >= 2:\n",
    "        print('Plane!')\n",
    "        vectors = matrix[plane_test]\n",
    "        return vectors\n",
    "    else:\n",
    "        print('No plane.')\n",
    "v1 = np.array([1,2,3])\n",
    "v2= np.array([2,2,2])\n",
    "v3 = np.array([8,8,8])\n",
    "\n",
    "print(plane(v1,v2,v3))"
   ]
  }
 ],
 "metadata": {
  "kernelspec": {
   "display_name": "Python 3",
   "language": "python",
   "name": "python3"
  },
  "language_info": {
   "codemirror_mode": {
    "name": "ipython",
    "version": 3
   },
   "file_extension": ".py",
   "mimetype": "text/x-python",
   "name": "python",
   "nbconvert_exporter": "python",
   "pygments_lexer": "ipython3",
   "version": "3.8.5"
  }
 },
 "nbformat": 4,
 "nbformat_minor": 4
}
